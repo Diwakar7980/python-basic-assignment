{
  "cells": [
    {
      "cell_type": "markdown",
      "metadata": {
        "id": "5ITouXd-7Y2D"
      },
      "source": [
        "#PYTHON BASIC QUESTION"
      ]
    },
    {
      "cell_type": "markdown",
      "metadata": {
        "id": "oD3y3d635a3t"
      },
      "source": [
        "1-what is python, and why it is popular?\n",
        "  - python is a high-level, interpreted programming langauge known for simple, readable, and versatile. it was created by guido van rossum and first reselsed in 1991.\n",
        "  - python is popular because it is esay, powerful, and flexible, making it useful for both beginners learning to code and profeessionalsn building advanced systems.\n",
        "\n",
        "2-what is an ineterpreter in python?\n",
        "  - In python, an interpreter is the program that reads and executes code line by line.\n",
        "  - THe python interpreter is the engine that takes your code and makes the computer actually run it.\n",
        "\n",
        "3.What are pre-define keywords in python?\n",
        "  - In python, keyword are special reserved words that have predifined meaning and purpose.\n",
        "  - list of predifine keywords-[False,None,True,and,as,assert,asyns,await,break,class,continue,def,dal,elif,else,except,finally,for,from,global,if,import,in,is,lambda,nonlocal,not,or,pass,raise,return,try,while,with,yield].\n",
        "\n",
        "4.Can keyword be used as variable in python?\n",
        " - No,because keyword are reseved word that have special meaning define by the language.\n",
        "\n",
        "5.what is mutability in python?\n",
        " - Mutability means: an object whose value can be chnaged after it is created is called mutable.\n",
        "\n",
        "6.why are list mutable, but tulpe are immutabe?\n",
        " - Because, lists store refrences to objects in dynamic array.\n",
        " - A tuple is meant for fixed collectins of items.\n",
        "\n",
        "7.what is different between '==' and 'is' operator in python?\n",
        " - '==' operator check value equality.\n",
        " - 'is' operator check identity.\n",
        "\n",
        "8.what are logical operator in python?\n",
        " - In python, logical  operators are used to combine or compare boolean values.\n",
        " - There are three logical operators: and, or, not.\n",
        "\n",
        "9.what is type costing in python?\n",
        " - Tyoe casting means converting one data type into another data type.\n",
        " - Python allows two types of type casting:-\n",
        "   1.Implicit Type Casting.\n",
        "   2.Explicit type casting.\n",
        "\n",
        "10.what is different between implicit and explicit type casting?\n",
        " - In implicit type casting conversion is done automatically by python.\n",
        "   In this type casting no data loss risk.\n",
        " - in explicit type casting conversion is done manually by the programmer.\n",
        "   In this type casting programmer foreced the conversin, even if it may cause data loss.\n",
        "\n",
        "11.what is the perpose of conditional statements in python?\n",
        " - Conditional statement are used to make decisions in a program.\n",
        "   they allow the program to execute certain blocks of only if a specific condition is true, otherwise execute something else.\n",
        "\n",
        "12.How does the elif statement work?\n",
        " - elif means \"else if\".\n",
        " - it is used when you have multiple conditions to check.\n",
        " - python evaluates the conditions top to bottom:\n",
        "   As soon as one condition is true, its block executes, and the rest are skipped.\n",
        "   If none are true, the else block runs.\n",
        "\n",
        "13.What is different between for and while loops?\n",
        " - FOR LOOP:-\n",
        "   Used when you know in advance how many times you want to repeat something.\n",
        "   Iterates over a sequence.\n",
        "   Automatic counter- no need to manage increment/decrement manually.\n",
        " - WHILE LOOP:-\n",
        "   Used when you do not know in advance how many times the loop will run.\n",
        "   keeps running as long as the condition is true.\n",
        "   you must manually update the condition, otherwise it may create an indifinite loop.   \n",
        "\n",
        "14.Describe a scenario where a while loop is more suitable than a for\n",
        "   loop.\n",
        "   - A whle loop is more suitable than a for loop when you don't know in advance how many times the loop needs to run, but you do know the condition that must stay true for the loop to continue.\n"
      ]
    },
    {
      "cell_type": "markdown",
      "metadata": {
        "id": "pQ00InB8i3sV"
      },
      "source": [
        "#Pracatical Questions\n"
      ]
    },
    {
      "cell_type": "code",
      "execution_count": null,
      "metadata": {
        "colab": {
          "base_uri": "https://localhost:8080/"
        },
        "id": "ZbojC0gqmzX5",
        "outputId": "c25d23bc-4557-4b51-b6d3-566971b8a407"
      },
      "outputs": [
        {
          "name": "stdout",
          "output_type": "stream",
          "text": [
            "HALLO, WORLD!\n"
          ]
        }
      ],
      "source": [
        "#1. WRITE A PYTHON PROGRAM TO PRINT \"HALLO, WORLD!\"\n",
        "print(\"HALLO, WORLD!\")"
      ]
    },
    {
      "cell_type": "code",
      "execution_count": null,
      "metadata": {
        "colab": {
          "base_uri": "https://localhost:8080/"
        },
        "id": "sAQtrJo3nc1t",
        "outputId": "cf7ae2b5-78cc-4238-82c1-7dc5658eb54f"
      },
      "outputs": [
        {
          "name": "stdout",
          "output_type": "stream",
          "text": [
            "enter your name: Diwakar\n",
            "enter your age: 19\n"
          ]
        }
      ],
      "source": [
        "#2. WRITE A PYTHON PROGRM TO DIPLAY YOU NAME AGE.\n",
        "name=input (\"enter your name: \")\n",
        "age=input (\"enter your age: \")\n",
        "print=(name,age)"
      ]
    },
    {
      "cell_type": "code",
      "execution_count": null,
      "metadata": {
        "colab": {
          "base_uri": "https://localhost:8080/"
        },
        "id": "97eZSH9Mj6QQ",
        "outputId": "93e7c2e2-3a8e-41b1-dc3d-794feec16aba"
      },
      "outputs": [
        {
          "output_type": "stream",
          "name": "stdout",
          "text": [
            "\n",
            "Here is a list of the Python keywords.  Enter any keyword to get more help.\n",
            "\n",
            "False               class               from                or\n",
            "None                continue            global              pass\n",
            "True                def                 if                  raise\n",
            "and                 del                 import              return\n",
            "as                  elif                in                  try\n",
            "assert              else                is                  while\n",
            "async               except              lambda              with\n",
            "await               finally             nonlocal            yield\n",
            "break               for                 not                 \n",
            "\n"
          ]
        }
      ],
      "source": [
        "#3. Write code to print all the pre-define keywords in python using the keyword library.\n",
        "\n",
        "help('keywords')"
      ]
    },
    {
      "cell_type": "code",
      "source": [
        "#4. Write a program that checks if a given word is a python keyword.\n",
        "import keyword\n",
        "def check_keyword(word):\n",
        "  if keyword.iskeyword(word):\n",
        "    print(f\"'{word}' is a python keyword.\")\n",
        "  else:\n",
        "    print(f\"'{word}' is not a python keyword.\")\n",
        "word=input(\"enter a word: \")\n",
        "check_keyword(word)"
      ],
      "metadata": {
        "colab": {
          "base_uri": "https://localhost:8080/"
        },
        "id": "RPAGqTWlVpuK",
        "outputId": "b8fc1133-5bbc-4dcb-ad36-fa6487f4f474"
      },
      "execution_count": null,
      "outputs": [
        {
          "output_type": "stream",
          "name": "stdout",
          "text": [
            "enter a word: for\n",
            "'for' is a python keyword.\n"
          ]
        }
      ]
    },
    {
      "cell_type": "code",
      "source": [
        "#5. Create a list and tuple in python,and demontrate how attemting to change an element words differently for each.\n",
        "my_list=[\"apple\",\"banana\",\"cherry\"]\n",
        "print(\"Original List:\", my_list)\n",
        "my_list[1] = \"mango\"\n",
        "print(\"Modified list:\", my_list)\n",
        "my_tuple=(\"apple\",\"banana\",\"cherry\")\n",
        "print(\"\\nOriginal Tuple:\", my_tuple)\n",
        "try:\n",
        "    my_tuple[1] = \"mango\"\n",
        "except TypeError as e:\n",
        "  print(\"Error when modifying tuple:\",e)"
      ],
      "metadata": {
        "id": "2UdnFjOcX6UC",
        "colab": {
          "base_uri": "https://localhost:8080/"
        },
        "outputId": "014b8b8a-005e-4058-ef91-eaa3eb44834c"
      },
      "execution_count": null,
      "outputs": [
        {
          "output_type": "stream",
          "name": "stdout",
          "text": [
            "Original List: ['apple', 'banana', 'cherry']\n",
            "Modified list: ['apple', 'mango', 'cherry']\n",
            "\n",
            "Original Tuple: ('apple', 'banana', 'cherry')\n",
            "Error when modifying tuple: 'tuple' object does not support item assignment\n"
          ]
        }
      ]
    },
    {
      "cell_type": "code",
      "source": [
        "#6. Write a function to demonstrate the behaviour of mutable and immutable argument.\n",
        "def modify_values(num, items):\n",
        "    print(\"inside function before modification:\")\n",
        "    print(\"num:\", num)\n",
        "    print(\"items:\", items)\n",
        "    num = num + 10\n",
        "    items.append(\"new item\")\n",
        "    print(\"\\ninside function after modification:\")\n",
        "    print(\"num:\", num)\n",
        "    print(\"items:\", items)\n",
        "    my_list = [\"apple\", \"banana\"]\n",
        "    print(\"Before function call:\")\n",
        "    print(\"x =\", x)\n",
        "    print(\"my_list =\", my_list)\n",
        "    modify_values(x, my_list)\n",
        "    print(\"\\nAfter function call:\")\n",
        "    print(\"x =\", x)\n",
        "    print(\"my_list =\", my_list)"
      ],
      "metadata": {
        "id": "bYu5L5IFcsYS"
      },
      "execution_count": null,
      "outputs": []
    },
    {
      "cell_type": "code",
      "source": [
        "#7. Write a program that performs basic arithmetic operations on two user-input numbers.\n",
        "num1 = float(input(\"Enter the first number: \"))\n",
        "num2 = float(input(\"Enter the second number: \"))\n",
        "addition = num1 + num2\n",
        "subtraction = num1 - num2\n",
        "multiplication = num1 * num2\n",
        "if num2 != 0:\n",
        "    division = num1 / num2\n",
        "else:\n",
        "    division = \"Undefined (cannot divide by zero)\"\n",
        "print(\"\\nResults:\")\n",
        "print(f\"Addition: {num1} + {num2} = {addition}\")\n",
        "print(f\"Subtraction: {num1} - {num2} = {subtraction}\")\n",
        "print(f\"Multiplication: {num1} * {num2} = {multiplication}\")\n",
        "print(f\"Division: {num1} / {num2} = {division}\")\n"
      ],
      "metadata": {
        "colab": {
          "base_uri": "https://localhost:8080/"
        },
        "id": "HaK1Miwuesgp",
        "outputId": "59e20727-c370-472f-93cd-a451bcd7dc5f"
      },
      "execution_count": null,
      "outputs": [
        {
          "output_type": "stream",
          "name": "stdout",
          "text": [
            "Enter the first number: 6\n",
            "Enter the second number: 8\n",
            "\n",
            "Results:\n",
            "Addition: 6.0 + 8.0 = 14.0\n",
            "Subtraction: 6.0 - 8.0 = -2.0\n",
            "Multiplication: 6.0 * 8.0 = 48.0\n",
            "Division: 6.0 / 8.0 = 0.75\n"
          ]
        }
      ]
    },
    {
      "cell_type": "code",
      "source": [
        "#8.Write a program to demonstrate the use of logical operators.\n",
        "print(\"Logical Operators Demo\")\n",
        "print(\"------------------------\")\n",
        "a = int(input(\"Enter the first number (a): \"))\n",
        "b = int(input(\"Enter the second number (b): \"))\n",
        "cond1 = a > 0\n",
        "cond2 = b > 0\n",
        "print(f\"\\nCondition 1: a > 0 is {cond1}\")\n",
        "print(f\"Condition 2: b > 0 is {cond2}\")\n",
        "print(\"\\nLogical Operations Results:\")\n",
        "print(f\"cond1 AND cond2: {cond1 and cond2}\")\n",
        "print(f\"cond1 OR cond2: {cond1 or cond2}\")\n",
        "print(f\"NOT cond1: {not cond1}\")\n",
        "print(f\"NOT cond2: {not cond2}\")\n"
      ],
      "metadata": {
        "colab": {
          "base_uri": "https://localhost:8080/"
        },
        "id": "IGRAfzKngJy2",
        "outputId": "414334fb-f1e9-4f86-e568-4b9bf55d8fbd"
      },
      "execution_count": null,
      "outputs": [
        {
          "output_type": "stream",
          "name": "stdout",
          "text": [
            "Logical Operators Demo\n",
            "------------------------\n",
            "Enter the first number (a): 6\n",
            "Enter the second number (b): 3\n",
            "\n",
            "Condition 1: a > 0 is True\n",
            "Condition 2: b > 0 is True\n",
            "\n",
            "Logical Operations Results:\n",
            "cond1 AND cond2: True\n",
            "cond1 OR cond2: True\n",
            "NOT cond1: False\n",
            "NOT cond2: False\n"
          ]
        }
      ]
    },
    {
      "cell_type": "code",
      "source": [
        "#9. Write a program to convert user input from string to integer, float, and boolean type.\n",
        "user_input = input(\"Enter a value: \")\n",
        "\n",
        "print(f\"\\nOriginal input (string): {user_input} (type: {type(user_input)})\")\n",
        "try:\n",
        "    int_value = int(user_input)\n",
        "    print(f\"Converted to Integer: {int_value} (type: {type(int_value)})\")\n",
        "except ValueError:\n",
        "    print(\"Cannot convert input to Integer.\")\n",
        "try:\n",
        "    float_value = float(user_input)\n",
        "    print(f\"Converted to Float: {float_value} (type: {type(float_value)})\")\n",
        "except ValueError:\n",
        "    print(\"Cannot convert input to Float.\")\n",
        "bool_value = user_input.strip().lower() not in [\"\", \"false\", \"0\", \"none\"]\n",
        "print(f\"Converted to Boolean: {bool_value} (type: {type(bool_value)})\")\n"
      ],
      "metadata": {
        "colab": {
          "base_uri": "https://localhost:8080/"
        },
        "id": "myKeitblhFea",
        "outputId": "73dd27d4-90f7-4543-f06c-6c605f9dfb60"
      },
      "execution_count": null,
      "outputs": [
        {
          "output_type": "stream",
          "name": "stdout",
          "text": [
            "Enter a value: 45\n",
            "\n",
            "Original input (string): 45 (type: <class 'str'>)\n",
            "Converted to Integer: 45 (type: <class 'int'>)\n",
            "Converted to Float: 45.0 (type: <class 'float'>)\n",
            "Converted to Boolean: True (type: <class 'bool'>)\n"
          ]
        }
      ]
    },
    {
      "cell_type": "code",
      "source": [
        "#10. Write code to demonstrate type casting with list elements.\n",
        "print(\"Type Casting with List Elements\")\n",
        "print(\"--------------------------------\\n\")\n",
        "str_list = [\"10\", \"20\", \"30\", \"40.5\", \"true\", \"False\", \"0\"]\n",
        "\n",
        "print(f\"Original List (as strings): {str_list}\")\n",
        "int_list = []\n",
        "for item in str_list:\n",
        "    try:\n",
        "        int_list.append(int(float(item)))\n",
        "    except ValueError:\n",
        "        int_list.append(None)\n",
        "print(f\"Converted to Integers:     {int_list}\")\n",
        "float_list = []\n",
        "for item in str_list:\n",
        "    try:\n",
        "        float_list.append(float(item))\n",
        "    except ValueError:\n",
        "        float_list.append(None)\n",
        "print(f\"Converted to Integers:     {int_list}\")\n",
        "bool_list = []\n",
        "for item in str_list:\n",
        "    value = item.strip().lower()\n",
        "    if value in [\"false\", \"0\", \"\", \"none\"]:\n",
        "        bool_list.append(False)\n",
        "    else:\n",
        "        bool_list.append(True)\n",
        "print(f\"Converted to Booleans:     {bool_list}\")\n"
      ],
      "metadata": {
        "colab": {
          "base_uri": "https://localhost:8080/"
        },
        "id": "SAuMm4G0iEG1",
        "outputId": "9fd12371-c1a8-47d0-93d9-39a57651e62a"
      },
      "execution_count": null,
      "outputs": [
        {
          "output_type": "stream",
          "name": "stdout",
          "text": [
            "Type Casting with List Elements\n",
            "--------------------------------\n",
            "\n",
            "Original List (as strings): ['10', '20', '30', '40.5', 'true', 'False', '0']\n",
            "Converted to Integers:     [10, 20, 30, 40, None, None, 0]\n",
            "Converted to Integers:     [10, 20, 30, 40, None, None, 0]\n",
            "Converted to Booleans:     [True, True, True, True, True, False, False]\n"
          ]
        }
      ]
    },
    {
      "cell_type": "code",
      "source": [
        "#11. Write a program that checks if a number is positive, negative, or zero.\n",
        "num = float(input(\"Enter a number: \"))\n",
        "if num > 0:\n",
        "    print(\"The number is Positive.\")\n",
        "elif num < 0:\n",
        "    print(\"The number is Negative.\")\n",
        "else:\n",
        "    print(\"The number is Zero.\")\n"
      ],
      "metadata": {
        "colab": {
          "base_uri": "https://localhost:8080/"
        },
        "id": "SSgMSl70kbuF",
        "outputId": "a6223ea3-e68c-41c6-e3ec-37bb7fa81a95"
      },
      "execution_count": null,
      "outputs": [
        {
          "output_type": "stream",
          "name": "stdout",
          "text": [
            "Enter a number: -5\n",
            "The number is Negative.\n"
          ]
        }
      ]
    },
    {
      "cell_type": "code",
      "source": [
        "#12. Write a for loop to print numbers from 1 to 10.\n",
        "for i in range(1, 11):\n",
        "    print(i)\n"
      ],
      "metadata": {
        "colab": {
          "base_uri": "https://localhost:8080/"
        },
        "id": "ezqXYzPzkxOv",
        "outputId": "9dd88790-ee96-4ab9-930f-8e52c9b18abf"
      },
      "execution_count": null,
      "outputs": [
        {
          "output_type": "stream",
          "name": "stdout",
          "text": [
            "1\n",
            "2\n",
            "3\n",
            "4\n",
            "5\n",
            "6\n",
            "7\n",
            "8\n",
            "9\n",
            "10\n"
          ]
        }
      ]
    },
    {
      "cell_type": "code",
      "source": [
        "#13. Write a python program to find the sum of all even numbers between 1 to 50.\n",
        "sum_even = 0\n",
        "for num in range(1, 51):\n",
        "    if num % 2 == 0:\n",
        "        sum_even += num\n",
        "print(\"Sum of even numbers from 1 to 50 is:\", sum_even)\n"
      ],
      "metadata": {
        "colab": {
          "base_uri": "https://localhost:8080/"
        },
        "id": "eTByY8UrlV9s",
        "outputId": "6953eca4-3d55-4804-8aef-c65eae7dbd22"
      },
      "execution_count": null,
      "outputs": [
        {
          "output_type": "stream",
          "name": "stdout",
          "text": [
            "Sum of even numbers from 1 to 50 is: 650\n"
          ]
        }
      ]
    },
    {
      "cell_type": "code",
      "source": [
        "#14. Write a program to reverse a string using a while loop.\n",
        "original_string = \"Hello, world!\"\n",
        "reversed_string = \"\"\n",
        "index = len(original_string) - 1\n",
        "while index >= 0:\n",
        "    reversed_string += original_string[index]\n",
        "    index -= 1\n",
        "print(\"Original String:\", original_string)\n",
        "print(\"Reversed String:\", reversed_string)\n"
      ],
      "metadata": {
        "colab": {
          "base_uri": "https://localhost:8080/"
        },
        "id": "04qmwhFWmAc8",
        "outputId": "37ab2645-f241-460c-feb2-e5243fd7b64a"
      },
      "execution_count": null,
      "outputs": [
        {
          "output_type": "stream",
          "name": "stdout",
          "text": [
            "Original String: Hello, world!\n",
            "Reversed String: !dlrow ,olleH\n"
          ]
        }
      ]
    },
    {
      "cell_type": "code",
      "source": [
        "#15. Write a python program to calculate the factorial of a number provided by the user using a while loop.\n",
        "num = int(input(\"Enter a number to calculate its factorial: \"))\n",
        "factorial = 1\n",
        "n = num\n",
        "if num < 0:\n",
        "    print(\"Factorial is not defined for negative numbers.\")\n",
        "else:\n",
        "    while n > 1:\n",
        "        factorial *= n\n",
        "        n -= 1\n",
        "    print(f\"Factorial of {num} is: {factorial}\")\n"
      ],
      "metadata": {
        "colab": {
          "base_uri": "https://localhost:8080/"
        },
        "id": "BlPgcZknmkbn",
        "outputId": "201270bd-1424-423f-8216-0814d566a464"
      },
      "execution_count": null,
      "outputs": [
        {
          "output_type": "stream",
          "name": "stdout",
          "text": [
            "Enter a number to calculate its factorial: 4\n",
            "Factorial of 4 is: 24\n"
          ]
        }
      ]
    }
  ],
  "metadata": {
    "colab": {
      "provenance": []
    },
    "kernelspec": {
      "display_name": "Python 3",
      "name": "python3"
    },
    "language_info": {
      "name": "python"
    }
  },
  "nbformat": 4,
  "nbformat_minor": 0
}